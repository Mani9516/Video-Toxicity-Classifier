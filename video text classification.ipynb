{
  "cells": [
    {
      "cell_type": "code",
      "execution_count": null,
      "metadata": {},
      "outputs": [
        {
          "ename": "",
          "evalue": "",
          "output_type": "error",
          "traceback": [
            "\u001b[1;31mThe kernel failed to start as 'TypeAliasType' could not be imported from 'c:\\Users\\mani chourasiya\\AppData\\Local\\Programs\\Python\\Python311\\Lib\\site-packages\\typing_extensions.py'.\n",
            "\u001b[1;31mClick <a href='https://aka.ms/kernelFailuresModuleImportErrFromFile'>here</a> for more info."
          ]
        }
      ],
      "source": [
        "- m pip install pysrt\n"
      ]
    },
    {
      "cell_type": "code",
      "execution_count": null,
      "metadata": {
        "colab": {
          "base_uri": "https://localhost:8080/"
        },
        "id": "lAENAj0LVlLb",
        "outputId": "f3d4803c-09cf-40a8-81a3-1fd736635466"
      },
      "outputs": [
        {
          "ename": "",
          "evalue": "",
          "output_type": "error",
          "traceback": [
            "\u001b[1;31mThe kernel failed to start as 'TypeAliasType' could not be imported from 'c:\\Users\\mani chourasiya\\AppData\\Local\\Programs\\Python\\Python311\\Lib\\site-packages\\typing_extensions.py'.\n",
            "\u001b[1;31mClick <a href='https://aka.ms/kernelFailuresModuleImportErrFromFile'>here</a> for more info."
          ]
        }
      ],
      "source": [
        "pip install gradio"
      ]
    },
    {
      "cell_type": "code",
      "execution_count": null,
      "metadata": {
        "colab": {
          "base_uri": "https://localhost:8080/"
        },
        "id": "61GQ1EZ8y13d",
        "outputId": "de5bd05f-59ca-4ad6-a331-dc0132a3294f"
      },
      "outputs": [
        {
          "ename": "",
          "evalue": "",
          "output_type": "error",
          "traceback": [
            "\u001b[1;31mThe kernel failed to start as 'TypeAliasType' could not be imported from 'c:\\Users\\mani chourasiya\\AppData\\Local\\Programs\\Python\\Python311\\Lib\\site-packages\\typing_extensions.py'.\n",
            "\u001b[1;31mClick <a href='https://aka.ms/kernelFailuresModuleImportErrFromFile'>here</a> for more info."
          ]
        }
      ],
      "source": [
        "!pip install SpeechRecognition\n"
      ]
    },
    {
      "cell_type": "code",
      "execution_count": null,
      "metadata": {
        "id": "Kruu9LP_y-Ow"
      },
      "outputs": [
        {
          "ename": "",
          "evalue": "",
          "output_type": "error",
          "traceback": [
            "\u001b[1;31mThe kernel failed to start as 'TypeAliasType' could not be imported from 'c:\\Users\\mani chourasiya\\AppData\\Local\\Programs\\Python\\Python311\\Lib\\site-packages\\typing_extensions.py'.\n",
            "\u001b[1;31mClick <a href='https://aka.ms/kernelFailuresModuleImportErrFromFile'>here</a> for more info."
          ]
        }
      ],
      "source": [
        "import joblib\n",
        "import gradio as gr\n",
        "import numpy as np\n",
        "import string\n",
        "import nltk\n",
        "import os\n",
        "from nltk.corpus import stopwords\n",
        "from nltk.tokenize import word_tokenize\n",
        "from nltk.stem import WordNetLemmatizer\n",
        "from moviepy.editor import VideoFileClip\n",
        "from pydub import AudioSegment\n",
        "import speech_recognition as sr\n",
        "from sklearn.feature_extraction.text import TfidfVectorizer\n",
        "from sklearn.linear_model import LogisticRegression\n",
        "from sklearn.pipeline import make_pipeline\n",
        "import joblib\n",
        "import pysrt\n"
      ]
    },
    {
      "cell_type": "code",
      "execution_count": null,
      "metadata": {
        "colab": {
          "base_uri": "https://localhost:8080/"
        },
        "id": "X6M85ESszRB7",
        "outputId": "31182120-da7b-4010-f794-409c511524a5"
      },
      "outputs": [
        {
          "ename": "",
          "evalue": "",
          "output_type": "error",
          "traceback": [
            "\u001b[1;31mThe kernel failed to start as 'TypeAliasType' could not be imported from 'c:\\Users\\mani chourasiya\\AppData\\Local\\Programs\\Python\\Python311\\Lib\\site-packages\\typing_extensions.py'.\n",
            "\u001b[1;31mClick <a href='https://aka.ms/kernelFailuresModuleImportErrFromFile'>here</a> for more info."
          ]
        }
      ],
      "source": [
        "tfidf_vectorizer = joblib.load(r'c:\\Users\\mani chourasiya\\Desktop\\day_9ToxicCommentClassifierUI\\practice-repo-main\\tfidf_vectorizer.pkl')\n",
        "lgbm_model = joblib.load(r'C:\\Users\\mani chourasiya\\Desktop\\day_9ToxicCommentClassifierUI\\practice-repo-main\\lgbm_multi_classifier.pkl')"
      ]
    },
    {
      "cell_type": "code",
      "execution_count": null,
      "metadata": {
        "colab": {
          "base_uri": "https://localhost:8080/"
        },
        "id": "c7gj8E4_zWTQ",
        "outputId": "44f9f3ae-516c-4d7f-9d1c-b1b99e04a0fe"
      },
      "outputs": [
        {
          "ename": "",
          "evalue": "",
          "output_type": "error",
          "traceback": [
            "\u001b[1;31mThe kernel failed to start as 'TypeAliasType' could not be imported from 'c:\\Users\\mani chourasiya\\AppData\\Local\\Programs\\Python\\Python311\\Lib\\site-packages\\typing_extensions.py'.\n",
            "\u001b[1;31mClick <a href='https://aka.ms/kernelFailuresModuleImportErrFromFile'>here</a> for more info."
          ]
        }
      ],
      "source": [
        "# Download necessary NLTK resources\n",
        "nltk.download('punkt')\n",
        "nltk.download('stopwords')\n",
        "nltk.download('wordnet')"
      ]
    },
    {
      "cell_type": "code",
      "execution_count": null,
      "metadata": {
        "id": "F5-iliwKzWCp"
      },
      "outputs": [
        {
          "ename": "",
          "evalue": "",
          "output_type": "error",
          "traceback": [
            "\u001b[1;31mThe kernel failed to start as 'TypeAliasType' could not be imported from 'c:\\Users\\mani chourasiya\\AppData\\Local\\Programs\\Python\\Python311\\Lib\\site-packages\\typing_extensions.py'.\n",
            "\u001b[1;31mClick <a href='https://aka.ms/kernelFailuresModuleImportErrFromFile'>here</a> for more info."
          ]
        }
      ],
      "source": [
        "# Initialize lemmatizer\n",
        "lemmatizer = WordNetLemmatizer()\n",
        "\n",
        "\n",
        "\n",
        "# Function to preprocess text\n",
        "def preprocessing(text):\n",
        "    # Convert text to lowercase\n",
        "    text = text.lower()\n",
        "\n",
        "    # Tokenize text\n",
        "    tokens = word_tokenize(text)\n",
        "\n",
        "    # Remove stopwords and punctuation\n",
        "    stop_words = set(stopwords.words('english'))\n",
        "    tokens = [word for word in tokens if word not in stop_words and word not in string.punctuation]\n",
        "\n",
        "    # Lemmatize tokens\n",
        "    tokens = [lemmatizer.lemmatize(word) for word in tokens]\n",
        "\n",
        "    # Join tokens back into text\n",
        "    preprocessed_text = ' '.join(tokens)\n",
        "\n",
        "    return preprocessed_text\n",
        "\n"
      ]
    },
    {
      "cell_type": "code",
      "execution_count": null,
      "metadata": {
        "id": "sIGrD-EKzQ-P"
      },
      "outputs": [
        {
          "ename": "",
          "evalue": "",
          "output_type": "error",
          "traceback": [
            "\u001b[1;31mThe kernel failed to start as 'TypeAliasType' could not be imported from 'c:\\Users\\mani chourasiya\\AppData\\Local\\Programs\\Python\\Python311\\Lib\\site-packages\\typing_extensions.py'.\n",
            "\u001b[1;31mClick <a href='https://aka.ms/kernelFailuresModuleImportErrFromFile'>here</a> for more info."
          ]
        }
      ],
      "source": [
        "# Function to predict toxicity\n",
        "def predict_toxicity(text):\n",
        "    processed_text = preprocessing(text)\n",
        "    text_tfidf = tfidf_vectorizer.transform([processed_text])\n",
        "    prediction = lgbm_model.predict(text_tfidf)\n",
        "    probabilities = lgbm_model.predict_proba(text_tfidf)\n",
        "\n",
        "    class_names = ['toxic', 'severe toxic', 'obscene', 'threat', 'insult', 'identity hate']\n",
        "\n",
        "    toxic_classes = []\n",
        "    toxic_probabilities = []\n",
        "\n",
        "    for i in range(len(prediction[0])):\n",
        "        if prediction[0][i] == 1:\n",
        "            toxic_classes.append(class_names[i])\n",
        "            toxic_probabilities.append(probabilities[i][0][1])\n",
        "\n",
        "    if toxic_classes:\n",
        "        result = \"⚠️ This comment has been flagged as toxic. ⚠️\\n\\nIntensity Breakdown:\\n\"\n",
        "        sorted_indices = np.argsort(toxic_probabilities)[::-1]\n",
        "        for idx in sorted_indices:\n",
        "            result += f\"{toxic_classes[idx]}: {toxic_probabilities[idx]*100:.2f}%\\n\"\n",
        "    else:\n",
        "        result = \"✅ This comment is safe and non-toxic. ✅\"\n",
        "\n",
        "    return result\n",
        "\n"
      ]
    },
    {
      "cell_type": "code",
      "execution_count": null,
      "metadata": {
        "id": "8xc7X7ja2s-T"
      },
      "outputs": [
        {
          "ename": "",
          "evalue": "",
          "output_type": "error",
          "traceback": [
            "\u001b[1;31mThe kernel failed to start as 'TypeAliasType' could not be imported from 'c:\\Users\\mani chourasiya\\AppData\\Local\\Programs\\Python\\Python311\\Lib\\site-packages\\typing_extensions.py'.\n",
            "\u001b[1;31mClick <a href='https://aka.ms/kernelFailuresModuleImportErrFromFile'>here</a> for more info."
          ]
        }
      ],
      "source": [
        "# Function to convert video to audio\n",
        "def video_to_audio(video_file):\n",
        "    video_clip = VideoFileClip(video_file)\n",
        "    audio_path = \"audio.mp3\"\n",
        "    video_clip.audio.write_audiofile(audio_path)\n",
        "    return audio_path\n",
        "\n"
      ]
    },
    {
      "cell_type": "code",
      "execution_count": null,
      "metadata": {},
      "outputs": [
        {
          "ename": "",
          "evalue": "",
          "output_type": "error",
          "traceback": [
            "\u001b[1;31mThe kernel failed to start as 'TypeAliasType' could not be imported from 'c:\\Users\\mani chourasiya\\AppData\\Local\\Programs\\Python\\Python311\\Lib\\site-packages\\typing_extensions.py'.\n",
            "\u001b[1;31mClick <a href='https://aka.ms/kernelFailuresModuleImportErrFromFile'>here</a> for more info."
          ]
        }
      ],
      "source": [
        "\n",
        "# Load the subtitle file\n",
        "subs = pysrt.open('path_to_your_file.srt')\n",
        "\n",
        "# Extract captions\n",
        "captions = []\n",
        "for sub in subs:\n",
        "    captions.append(sub.text)\n",
        "\n",
        "# Combine all captions into a single string\n",
        "all_captions = ' '.join(captions)\n",
        "print(all_captions)\n"
      ]
    },
    {
      "cell_type": "code",
      "execution_count": null,
      "metadata": {
        "id": "vbDq2eXe298Y"
      },
      "outputs": [
        {
          "ename": "",
          "evalue": "",
          "output_type": "error",
          "traceback": [
            "\u001b[1;31mThe kernel failed to start as 'TypeAliasType' could not be imported from 'c:\\Users\\mani chourasiya\\AppData\\Local\\Programs\\Python\\Python311\\Lib\\site-packages\\typing_extensions.py'.\n",
            "\u001b[1;31mClick <a href='https://aka.ms/kernelFailuresModuleImportErrFromFile'>here</a> for more info."
          ]
        }
      ],
      "source": [
        "# Function to convert audio to text\n",
        "def audio_to_text(audio_path):\n",
        "    recognizer = sr.Recognizer()\n",
        "    audio = AudioSegment.from_mp3(audio_path)\n",
        "    audio.export(\"temp.wav\", format=\"wav\")\n",
        "\n",
        "    with sr.AudioFile(\"temp.wav\") as source:\n",
        "        audio_data = recognizer.record(source)\n",
        "        text = recognizer.recognize_google(audio_data)\n",
        "\n",
        "    os.remove(\"temp.wav\")\n",
        "    return text\n",
        "\n"
      ]
    },
    {
      "cell_type": "code",
      "execution_count": null,
      "metadata": {
        "id": "exdYQ6aN2-AN"
      },
      "outputs": [
        {
          "ename": "",
          "evalue": "",
          "output_type": "error",
          "traceback": [
            "\u001b[1;31mThe kernel failed to start as 'TypeAliasType' could not be imported from 'c:\\Users\\mani chourasiya\\AppData\\Local\\Programs\\Python\\Python311\\Lib\\site-packages\\typing_extensions.py'.\n",
            "\u001b[1;31mClick <a href='https://aka.ms/kernelFailuresModuleImportErrFromFile'>here</a> for more info."
          ]
        }
      ],
      "source": [
        "# Combined function to handle video input and return toxicity analysis\n",
        "def analyze_video_toxicity(video_file):\n",
        "    audio_path = video_to_audio(video_file)\n",
        "    text = audio_to_text(audio_path)\n",
        "    toxicity_result = predict_toxicity(text)\n",
        "    return text, toxicity_result\n",
        "\n"
      ]
    },
    {
      "cell_type": "code",
      "execution_count": null,
      "metadata": {
        "colab": {
          "base_uri": "https://localhost:8080/",
          "height": 663
        },
        "id": "0ozhmNmq7Rbv",
        "outputId": "0797020b-981e-45af-80e0-66e413b188fe"
      },
      "outputs": [
        {
          "ename": "",
          "evalue": "",
          "output_type": "error",
          "traceback": [
            "\u001b[1;31mThe kernel failed to start as 'TypeAliasType' could not be imported from 'c:\\Users\\mani chourasiya\\AppData\\Local\\Programs\\Python\\Python311\\Lib\\site-packages\\typing_extensions.py'.\n",
            "\u001b[1;31mClick <a href='https://aka.ms/kernelFailuresModuleImportErrFromFile'>here</a> for more info."
          ]
        }
      ],
      "source": [
        "# Example text data and labels to fit the tfidf_vectorizer and model (replace with your own dataset)\n",
        "example_texts = [ \"bad\", \"awful\", \"terrible\", \"horrible\", \"hate\", \"stupid\", \"idiot\", \"dumb\", \"fool\", \"ugly\",\n",
        "    \"disgusting\", \"nasty\", \"gross\", \"suck\", \"loser\", \"moron\", \"jerk\", \"creep\", \"freak\",\n",
        "    \"pathetic\", \"worthless\", \"trash\", \"garbage\", \"scum\", \"pig\", \"dog\", \"filth\", \"slime\",\n",
        "    \"bastard\", \"asshole\", \"shit\", \"crap\", \"piss\", \"bitch\", \"whore\", \"slut\", \"dick\", \"cock\",\n",
        "    \"cunt\", \"fag\", \"dyke\", \"retard\", \"loser\", \"waste\", \"failure\", \"kill\", \"die\", \"fuck\",\n",
        "    \"good\", \"great\", \"awesome\", \"fantastic\", \"love\", \"smart\", \"intelligent\", \"brilliant\", \"genius\", \"beautiful\"\n",
        "]\n",
        "\n",
        "example_labels = [\"⚠️ This comment has been flagged as toxic. ⚠️\\n\\nIntensity Breakdown:\\n\"] * 48 + [\"✅ This comment is safe and non-toxic. ✅\"] * 10 # Example labels, now with two classes\n",
        "\n",
        "# Initialize and fit the pipeline model\n",
        "model = make_pipeline(TfidfVectorizer(), LogisticRegression())\n",
        "model.fit(example_texts, example_labels)\n",
        "def analyze_video_toxicity(video_file):\n",
        "    # Extract audio and convert to text (placeholder function)\n",
        "    clip = VideoFileClip(video_file)\n",
        "    audio_text = \"Extracted text from the video audio.\"  # Replace with actual audio-to-text conversion\n",
        "\n",
        "    # Predict toxicity\n",
        "    toxicity_result = model.predict([audio_text])\n",
        "\n",
        "    return audio_text, toxicity_result\n",
        "\n",
        "def analyze_and_print(video_file):\n",
        "    converted_text, toxicity_result = analyze_video_toxicity(video_file)\n",
        "    print(f\"Text from the video: {converted_text}\")\n",
        "    return toxicity_result\n",
        "\n",
        "interface = gr.Interface(\n",
        "    fn=analyze_and_print,\n",
        "    inputs=gr.Video(label=\"Upload your video\"),\n",
        "    outputs=gr.Textbox(label=\"Toxicity Analysis\"),\n",
        "    title=\"Video Toxicity Classifier\",\n",
        "    description=\"Upload a video to analyze its audio content for toxicity.\",\n",
        "    theme=\"default\",\n",
        "    allow_flagging='never'\n",
        ")\n",
        "\n",
        "if __name__ == \"__main__\":\n",
        "    interface.launch(debug=True)\n"
      ]
    }
  ],
  "metadata": {
    "colab": {
      "provenance": []
    },
    "kernelspec": {
      "display_name": "Python 3",
      "name": "python3"
    },
    "language_info": {
      "codemirror_mode": {
        "name": "ipython",
        "version": 3
      },
      "file_extension": ".py",
      "mimetype": "text/x-python",
      "name": "python",
      "nbconvert_exporter": "python",
      "pygments_lexer": "ipython3",
      "version": "3.11.9"
    }
  },
  "nbformat": 4,
  "nbformat_minor": 0
}
